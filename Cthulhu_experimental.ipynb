{
 "cells": [
  {
   "cell_type": "code",
   "execution_count": 3,
   "metadata": {},
   "outputs": [],
   "source": [
    "# Create a class called Character with attributes:\n",
    "# name, strength, intelligence, wisdom, dexterity, \n",
    "# charisma, and constitution\n",
    "import random\n",
    "\n",
    "class Character:\n",
    "     \n",
    "    def __init__(self, Character_name):\n",
    "        self.name = Character_name\n",
    "        self.strength = dice(3, 6, 5)\n",
    "        self.intelligence = dice(2, 6, 5)\n",
    "\n",
    "        self.dexterity = dice(3, 6, 5)\n",
    "        self.constitution = dice(3, 6, 5)\n",
    "        self.size = dice(2, 6, 5)\n",
    "        self.appearance = dice(3, 6, 5)\n",
    "        self.willpower = dice(2, 6, 5)\n",
    "        self.education = dice(3, 6, 5)\n",
    "        self.age = random.randint(18, 60)\n",
    "        # hp = (size + constitution)/2 rounded down\n",
    "        self.hp = (self.size + self.constitution) // 2\n",
    "\n",
    "    def dice(number_of_dice, number_of_sides, modifier):\n",
    "        total = 0\n",
    "        for i in range(number_of_dice):\n",
    "            total += random.randint(1, number_of_sides)\n",
    "        return total * modifier\n",
    "\n"
   ]
  },
  {
   "cell_type": "code",
   "execution_count": 4,
   "metadata": {},
   "outputs": [
    {
     "ename": "NameError",
     "evalue": "name 'dice' is not defined",
     "output_type": "error",
     "traceback": [
      "\u001b[1;31m---------------------------------------------------------------------------\u001b[0m",
      "\u001b[1;31mNameError\u001b[0m                                 Traceback (most recent call last)",
      "Cell \u001b[1;32mIn[4], line 2\u001b[0m\n\u001b[0;32m      1\u001b[0m \u001b[39m# print gandalf's stats\u001b[39;00m\n\u001b[1;32m----> 2\u001b[0m gandalf \u001b[39m=\u001b[39m Character(\u001b[39m\"\u001b[39;49m\u001b[39mGandalf\u001b[39;49m\u001b[39m\"\u001b[39;49m)\n\u001b[0;32m      4\u001b[0m \u001b[39mfor\u001b[39;00m attributes \u001b[39min\u001b[39;00m gandalf\u001b[39m.\u001b[39m\u001b[39m__dict__\u001b[39m:\n\u001b[0;32m      5\u001b[0m     \u001b[39mprint\u001b[39m(attributes, gandalf\u001b[39m.\u001b[39m\u001b[39m__dict__\u001b[39m[attributes])\n",
      "Cell \u001b[1;32mIn[3], line 10\u001b[0m, in \u001b[0;36mCharacter.__init__\u001b[1;34m(self, Character_name)\u001b[0m\n\u001b[0;32m      8\u001b[0m \u001b[39mdef\u001b[39;00m \u001b[39m__init__\u001b[39m(\u001b[39mself\u001b[39m, Character_name):\n\u001b[0;32m      9\u001b[0m     \u001b[39mself\u001b[39m\u001b[39m.\u001b[39mname \u001b[39m=\u001b[39m Character_name\n\u001b[1;32m---> 10\u001b[0m     \u001b[39mself\u001b[39m\u001b[39m.\u001b[39mstrength \u001b[39m=\u001b[39m dice(\u001b[39m3\u001b[39m, \u001b[39m6\u001b[39m, \u001b[39m5\u001b[39m)\n\u001b[0;32m     11\u001b[0m     \u001b[39mself\u001b[39m\u001b[39m.\u001b[39mintelligence \u001b[39m=\u001b[39m dice(\u001b[39m2\u001b[39m, \u001b[39m6\u001b[39m, \u001b[39m5\u001b[39m)\n\u001b[0;32m     13\u001b[0m     \u001b[39mself\u001b[39m\u001b[39m.\u001b[39mdexterity \u001b[39m=\u001b[39m dice(\u001b[39m3\u001b[39m, \u001b[39m6\u001b[39m, \u001b[39m5\u001b[39m)\n",
      "\u001b[1;31mNameError\u001b[0m: name 'dice' is not defined"
     ]
    }
   ],
   "source": [
    "# print gandalf's stats\n",
    "gandalf = Character(\"Gandalf\")\n",
    "\n",
    "for attributes in gandalf.__dict__:\n",
    "    print(attributes, gandalf.__dict__[attributes])\n"
   ]
  },
  {
   "cell_type": "code",
   "execution_count": 5,
   "metadata": {},
   "outputs": [],
   "source": [
    "#Attribute Generation\n",
    "#randomly generate core attributes using the dice funtion, and calculate derived statistics\n",
    "\n",
    "\n",
    "# define a function that rolls a number of dice and returns the sum of the rolls times the modifier\n",
    "def dice(number_of_dice, number_of_sides, modifier):\n",
    "    total = 0\n",
    "    for i in range(number_of_dice):\n",
    "        total += random.randint(1, number_of_sides)\n",
    "    return total * modifier\n"
   ]
  },
  {
   "cell_type": "code",
   "execution_count": 6,
   "metadata": {},
   "outputs": [
    {
     "name": "stdout",
     "output_type": "stream",
     "text": [
      "20\n",
      "70\n"
     ]
    }
   ],
   "source": [
    "constitution = dice(number_of_dice=3, modifier=5, number_of_sides=6)\n",
    "\n",
    "size = dice(number_of_dice=2, modifier=5, number_of_sides =6)\n",
    "\n",
    "print(size)\n",
    "print(constitution)"
   ]
  },
  {
   "cell_type": "code",
   "execution_count": null,
   "metadata": {},
   "outputs": [],
   "source": [
    "# Create a subclass of Character called Monster with attributes:\n",
    "# poison, claws, and tentacles\n",
    "\n",
    "class Monster(Character):\n",
    "    def __init__(self, name, strength, intelligence, willpower, appearance, size, dexterity, education, constitution, poison, claws, tentacles):\n",
    "        super().__init__(name, strength, intelligence, willpower, appearance, size, dexterity, education, constitution)\n",
    "        self.poison = poison\n",
    "        self.claws = claws\n",
    "        self.tentacles = tentacles\n",
    "\n",
    "# Create a subclass of Character called Hero with attributes:\n",
    "# weapon, armor, healing, and shield\n",
    "\n",
    "class Hero(Character):\n",
    "    def __init__(self, name, strength, intelligence, wisdom, dexterity, charisma, constitution, weapon, armor, healing, shield):\n",
    "        super().__init__(name, strength, intelligence, wisdom, dexterity, charisma, constitution)\n",
    "        self.weapon = weapon\n",
    "        self.armor = armor\n",
    "        self.healing = healing\n",
    "        self.shield = shield\n",
    "\n",
    "# Create a subclass of Monster called Dragon with attributes:\n",
    "# fire, breath, and wings\n",
    "\n",
    "class Dragon(Monster):\n",
    "    def __init__(self, name, strength, intelligence, wisdom, dexterity, charisma, constitution, poison, claws, tentacles, fire, breath, wings):\n",
    "        super().__init__(name, strength, intelligence, wisdom, dexterity, charisma, constitution, poison, claws, tentacles)\n",
    "        self.fire = fire\n",
    "        self.breath = breath\n",
    "        self.wings = wings\n",
    "\n",
    "# create a subclass of the Character Class called Magic_person with attributes:\n",
    "# magic, spell, and wand\n",
    "\n",
    "class Magic_person(Character):\n",
    "    def __init__(self, name, strength, intelligence, wisdom, dexterity, charisma, constitution, magic, spell, wand):\n",
    "        super().__init__(name, strength, intelligence, wisdom, dexterity, charisma, constitution)\n",
    "        self.magic = magic\n",
    "        self.spell = spell\n",
    "        self.wand = wand\n",
    "\n",
    "#  \n"
   ]
  },
  {
   "cell_type": "code",
   "execution_count": 7,
   "metadata": {},
   "outputs": [],
   "source": [
    "# add a name generator for the character's name\n",
    "import os\n",
    "import openai \n",
    "\n",
    "openai.api_key = os.getenv(\"OPENAI_API_KEY\")\n",
    "response = openai.Completion.create( model=\"text-davinci-003\", prompt=\"Say this is a test\", temperature=0, max_tokens=7)"
   ]
  },
  {
   "cell_type": "code",
   "execution_count": 9,
   "metadata": {},
   "outputs": [
    {
     "data": {
      "text/plain": [
       "str"
      ]
     },
     "execution_count": 9,
     "metadata": {},
     "output_type": "execute_result"
    }
   ],
   "source": [
    "type(openai.api_key)"
   ]
  },
  {
   "cell_type": "code",
   "execution_count": 12,
   "metadata": {},
   "outputs": [],
   "source": [
    "completion = openai.ChatCompletion.create(\n",
    "  model=\"gpt-3.5-turbo\",\n",
    "  messages=[\n",
    "    {\"role\": \"user\", \"content\": \"Tell the world about the ChatGPT API in the style of a pirate.\"}\n",
    "  ]\n",
    ")\n"
   ]
  },
  {
   "cell_type": "code",
   "execution_count": 13,
   "metadata": {},
   "outputs": [
    {
     "name": "stdout",
     "output_type": "stream",
     "text": [
      "Arrr, me hearties! Gather ye round and listen up, for I have news that ye all will find mighty helpful. Have ye ever been in need of a chatbot or messaging system that be easy to use and integrate into your website or application? Look no further than ChatGPT API, me mateys!\n",
      "\n",
      "This be the most user-friendly chatbot API in all the seas. Its interface be simple to understand and easy to work with, making it perfect for even the most landlubber developers. And if ye be in need of some help or guidance, the ChatGPT team be ready to assist ye with all yer needs.\n",
      "\n",
      "This API be capable of performing a range of functions, from simple chatbots to advanced natural language processing systems. It can even be customized to match the theme and tone of yer website or app. And with constant updates and improvements being made, ye can be sure that the ChatGPT API will always be up to date and relevant.\n",
      "\n",
      "So what be ye waiting for, me hearties? Give the ChatGPT API a try and watch yer website or app flourish like a pirate's treasure hoard! Ye won't regret it, I guarantee it.\n"
     ]
    }
   ],
   "source": [
    "print(completion.choices[0].message.content)"
   ]
  },
  {
   "cell_type": "code",
   "execution_count": 17,
   "metadata": {},
   "outputs": [],
   "source": [
    "aCharacter = openai.Completion.create(\n",
    "  model=\"text-davinci-003\",\n",
    "  prompt=\"Generate a name and a backstory for a character for a fantasy story\",\n",
    "  temperature=0.8,\n",
    "  max_tokens=60,\n",
    "  top_p=1.0,\n",
    "  frequency_penalty=0.0,\n",
    "  presence_penalty=0.0\n",
    ")"
   ]
  },
  {
   "cell_type": "code",
   "execution_count": 20,
   "metadata": {},
   "outputs": [
    {
     "name": "stdout",
     "output_type": "stream",
     "text": [
      "\n",
      "\n",
      "Name: Kaelen\n",
      "\n",
      "Backstory: Kaelen was born in the kingdom of Andoril, a small but prosperous land ruled with an iron fist by the King. Kaelen was born into a family of noble warriors, and from a young age was taught the ways\n"
     ]
    }
   ],
   "source": [
    "# print the name of the character\n",
    "print(aCharacter.choices[0].text)\n"
   ]
  },
  {
   "cell_type": "code",
   "execution_count": null,
   "metadata": {},
   "outputs": [],
   "source": []
  }
 ],
 "metadata": {
  "kernelspec": {
   "display_name": "gpd_pytorch",
   "language": "python",
   "name": "python3"
  },
  "language_info": {
   "codemirror_mode": {
    "name": "ipython",
    "version": 3
   },
   "file_extension": ".py",
   "mimetype": "text/x-python",
   "name": "python",
   "nbconvert_exporter": "python",
   "pygments_lexer": "ipython3",
   "version": "3.9.16"
  },
  "orig_nbformat": 4
 },
 "nbformat": 4,
 "nbformat_minor": 2
}
