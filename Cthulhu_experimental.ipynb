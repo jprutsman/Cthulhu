{
 "cells": [
  {
   "cell_type": "code",
   "execution_count": 44,
   "metadata": {},
   "outputs": [
    {
     "name": "stdout",
     "output_type": "stream",
     "text": [
      "35\n"
     ]
    }
   ],
   "source": [
    "# Create a class called Character with attributes:\n",
    "# name, strength, intelligence, wisdom, dexterity, \n",
    "# charisma, and constitution\n",
    "import random\n",
    "\n",
    "class Character:\n",
    "     \n",
    "    def __init__(self, Character_name):\n",
    "        self.name = Character_name\n",
    "        self.strength = dice(3, 6, 5)\n",
    "        self.intelligence = dice(2, 6, 5)\n",
    "\n",
    "        self.dexterity = dice(3, 6, 5)\n",
    "        self.constitution = dice(3, 6, 5)\n",
    "        self.size = dice(2, 6, 5)\n",
    "        self.appearance = dice(3, 6, 5)\n",
    "        self.willpower = dice(2, 6, 5)\n",
    "        self.education = dice(3, 6, 5)\n",
    "        self.age = random.randint(18, 60)\n",
    "        # hp = (size + constitution)/2 rounded down\n",
    "        self.hp = (self.size + self.constitution) // 2\n",
    "\n",
    "    def dice(number_of_dice, number_of_sides, modifier):\n",
    "        total = 0\n",
    "        for i in range(number_of_dice):\n",
    "            total += random.randint(1, number_of_sides)\n",
    "        return total * modifier\n",
    "\n"
   ]
  },
  {
   "cell_type": "code",
   "execution_count": 45,
   "metadata": {},
   "outputs": [
    {
     "name": "stdout",
     "output_type": "stream",
     "text": [
      "name Gandalf\n",
      "strength 45\n",
      "intelligence 25\n",
      "dexterity 35\n",
      "constitution 45\n",
      "size 60\n",
      "appearance 90\n",
      "willpower 20\n",
      "education 40\n",
      "age 52\n",
      "hp 52\n",
      "name New Character\n",
      "strength 70\n",
      "intelligence 25\n",
      "dexterity 30\n",
      "constitution 45\n",
      "size 35\n",
      "appearance 65\n",
      "willpower 40\n",
      "education 50\n",
      "age 57\n",
      "hp 40\n"
     ]
    }
   ],
   "source": []
  },
  {
   "cell_type": "code",
   "execution_count": null,
   "metadata": {},
   "outputs": [],
   "source": [
    "#Attribute Generation\n",
    "#randomly generate core attributes using the dice funtion, and calculate derived statistics\n",
    "\n",
    "\n",
    "# define a function that rolls a number of dice and returns the sum of the rolls times the modifier\n",
    "def dice(number_of_dice, number_of_sides, modifier):\n",
    "    total = 0\n",
    "    for i in range(number_of_dice):\n",
    "        total += random.randint(1, number_of_sides)\n",
    "    return total * modifier\n"
   ]
  },
  {
   "cell_type": "code",
   "execution_count": 17,
   "metadata": {},
   "outputs": [
    {
     "name": "stdout",
     "output_type": "stream",
     "text": [
      "20\n",
      "40\n"
     ]
    }
   ],
   "source": [
    "constitution = dice(number_of_dice=3, modifier=5, number_of_sides=6)\n",
    "\n",
    "size = dice(number_of_dice=2, modifier=5, number_of_sides =6)\n",
    "\n",
    "print(size)\n",
    "print(constitution)"
   ]
  },
  {
   "cell_type": "code",
   "execution_count": null,
   "metadata": {},
   "outputs": [],
   "source": [
    "# Create a subclass of Character called Monster with attributes:\n",
    "# poison, claws, and tentacles\n",
    "\n",
    "class Monster(Character):\n",
    "    def __init__(self, name, strength, intelligence, willpower, appearance, size, dexterity, education, constitution, poison, claws, tentacles):\n",
    "        super().__init__(name, strength, intelligence, willpower, appearance, size, dexterity, education, constitution)\n",
    "        self.poison = poison\n",
    "        self.claws = claws\n",
    "        self.tentacles = tentacles\n",
    "\n",
    "# Create a subclass of Character called Hero with attributes:\n",
    "# weapon, armor, healing, and shield\n",
    "\n",
    "class Hero(Character):\n",
    "    def __init__(self, name, strength, intelligence, wisdom, dexterity, charisma, constitution, weapon, armor, healing, shield):\n",
    "        super().__init__(name, strength, intelligence, wisdom, dexterity, charisma, constitution)\n",
    "        self.weapon = weapon\n",
    "        self.armor = armor\n",
    "        self.healing = healing\n",
    "        self.shield = shield\n",
    "\n",
    "# Create a subclass of Monster called Dragon with attributes:\n",
    "# fire, breath, and wings\n",
    "\n",
    "class Dragon(Monster):\n",
    "    def __init__(self, name, strength, intelligence, wisdom, dexterity, charisma, constitution, poison, claws, tentacles, fire, breath, wings):\n",
    "        super().__init__(name, strength, intelligence, wisdom, dexterity, charisma, constitution, poison, claws, tentacles)\n",
    "        self.fire = fire\n",
    "        self.breath = breath\n",
    "        self.wings = wings\n",
    "\n",
    "# create a subclass of the Character Class called Magic_person with attributes:\n",
    "# magic, spell, and wand\n",
    "\n",
    "class Magic_person(Character):\n",
    "    def __init__(self, name, strength, intelligence, wisdom, dexterity, charisma, constitution, magic, spell, wand):\n",
    "        super().__init__(name, strength, intelligence, wisdom, dexterity, charisma, constitution)\n",
    "        self.magic = magic\n",
    "        self.spell = spell\n",
    "        self.wand = wand\n",
    "\n",
    "#  \n"
   ]
  },
  {
   "cell_type": "code",
   "execution_count": null,
   "metadata": {},
   "outputs": [],
   "source": []
  }
 ],
 "metadata": {
  "kernelspec": {
   "display_name": "gpd_pytorch",
   "language": "python",
   "name": "python3"
  },
  "language_info": {
   "codemirror_mode": {
    "name": "ipython",
    "version": 3
   },
   "file_extension": ".py",
   "mimetype": "text/x-python",
   "name": "python",
   "nbconvert_exporter": "python",
   "pygments_lexer": "ipython3",
   "version": "3.9.11"
  },
  "orig_nbformat": 4
 },
 "nbformat": 4,
 "nbformat_minor": 2
}
