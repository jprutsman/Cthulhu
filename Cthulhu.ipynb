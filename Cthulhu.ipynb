{
 "cells": [
  {
   "cell_type": "code",
   "execution_count": null,
   "metadata": {},
   "outputs": [],
   "source": [
    "# Create a class called Character with attributes:\n",
    "# name, strength, intelligence, wisdom, dexterity, \n",
    "# charisma, and constitution\n",
    "\n",
    "class Character: \n",
    "    def __init__(self, name, strength, intelligence, wisdom, dexterity, charisma, constitution):\n",
    "        self.name = name\n",
    "        self.strength = strength\n",
    "        self.intelligence = intelligence\n",
    "        self.wisdom = wisdom\n",
    "        self.dexterity = dexterity\n",
    "        self.charisma = charisma\n",
    "        self.constitution = constitution\n",
    "\n",
    "# Create a subclass of Character called Monster with attributes:\n",
    "# poison, claws, and tentacles\n",
    "\n",
    "class Monster(Character):\n",
    "    def __init__(self, name, strength, intelligence, wisdom, dexterity, charisma, constitution, poison, claws, tentacles):\n",
    "        super().__init__(name, strength, intelligence, wisdom, dexterity, charisma, constitution)\n",
    "        self.poison = poison\n",
    "        self.claws = claws\n",
    "        self.tentacles = tentacles\n",
    "\n",
    "# Create a subclass of Character called Hero with attributes:\n",
    "# weapon, armor, healing, and shield\n",
    "\n",
    "class Hero(Character):\n",
    "    def __init__(self, name, strength, intelligence, wisdom, dexterity, charisma, constitution, weapon, armor, healing, shield):\n",
    "        super().__init__(name, strength, intelligence, wisdom, dexterity, charisma, constitution)\n",
    "        self.weapon = weapon\n",
    "        self.armor = armor\n",
    "        self.healing = healing\n",
    "        self.shield = shield\n",
    "\n",
    "# Create a subclass of Monster called Dragon with attributes:\n",
    "# fire, breath, and wings\n",
    "\n",
    "class Dragon(Monster):\n",
    "    def __init__(self, name, strength, intelligence, wisdom, dexterity, charisma, constitution, poison, claws, tentacles, fire, breath, wings):\n",
    "        super().__init__(name, strength, intelligence, wisdom, dexterity, charisma, constitution, poison, claws, tentacles)\n",
    "        self.fire = fire\n",
    "        self.breath = breath\n",
    "        self.wings = wings\n",
    "\n"
   ]
  }
 ],
 "metadata": {
  "language_info": {
   "name": "python"
  },
  "orig_nbformat": 4
 },
 "nbformat": 4,
 "nbformat_minor": 2
}
